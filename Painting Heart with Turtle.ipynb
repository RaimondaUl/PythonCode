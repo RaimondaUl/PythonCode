{
 "cells": [
  {
   "cell_type": "code",
   "execution_count": 1,
   "metadata": {},
   "outputs": [],
   "source": [
    "import turtle\n",
    "pen = turtle.Turtle()\n",
    "\n",
    "def curve():\n",
    "    for i in range(200):\n",
    "        pen.right(1)\n",
    "        pen.forward(1)\n",
    "def heart():\n",
    "    pen.up()\n",
    "    pen.setposition(-120,-10)\n",
    "    pen.down()\n",
    "    pen.fillcolor('blue')\n",
    "    pen.begin_fill()\n",
    "    pen.goto(-120,185)\n",
    "    pen.goto(120,185)\n",
    "    pen.goto(120,-10)\n",
    "    pen.goto(-120,-10)\n",
    "    pen.end_fill()\n",
    "    pen.up()\n",
    "    pen.setposition(0,0)\n",
    "    pen.down()\n",
    "    pen.fillcolor('yellow')\n",
    "    pen.begin_fill()\n",
    "    pen.left(140)\n",
    "    pen.forward(113)\n",
    "    curve()\n",
    "    pen.left(120)\n",
    "    curve()\n",
    "    pen.forward(112)\n",
    "    pen.end_fill()\n",
    "\n",
    "heart()\n",
    "pen.ht()"
   ]
  },
  {
   "cell_type": "markdown",
   "metadata": {},
   "source": []
  }
 ],
 "metadata": {
  "interpreter": {
   "hash": "b89b5cfaba6639976dc87ff2fec6d58faec662063367e2c229c520fe71072417"
  },
  "kernelspec": {
   "display_name": "Python 3.10.2 64-bit",
   "language": "python",
   "name": "python3"
  },
  "language_info": {
   "codemirror_mode": {
    "name": "ipython",
    "version": 3
   },
   "file_extension": ".py",
   "mimetype": "text/x-python",
   "name": "python",
   "nbconvert_exporter": "python",
   "pygments_lexer": "ipython3",
   "version": "3.9.7"
  },
  "orig_nbformat": 4
 },
 "nbformat": 4,
 "nbformat_minor": 2
}
